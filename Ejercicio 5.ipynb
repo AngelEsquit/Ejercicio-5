{
 "cells": [
  {
   "cell_type": "code",
   "execution_count": 2,
   "id": "3345c79c",
   "metadata": {},
   "outputs": [],
   "source": [
    "#Universidad del Valle de Guatemala\n",
    "#Angel Esquit - 23221\n",
    "#Javier Chávez - 23132\n",
    "#Ejercicio 5\n",
    "\n",
    "import numpy as np\n",
    "import pandas as pd\n",
    "\n",
    "pd.set_option('display.max_rows', None)\n",
    "pd.set_option('display.max_columns', None)"
   ]
  },
  {
   "cell_type": "code",
   "execution_count": 3,
   "id": "79021d91",
   "metadata": {},
   "outputs": [],
   "source": [
    "movies = pd.read_csv(\"movies2023-1.csv\", engine = \"python\")"
   ]
  },
  {
   "attachments": {},
   "cell_type": "markdown",
   "id": "003ca048",
   "metadata": {},
   "source": [
    "#Opción 1: Información principal"
   ]
  },
  {
   "cell_type": "code",
   "execution_count": null,
   "id": "915f355d",
   "metadata": {},
   "outputs": [],
   "source": [
    "def pelicula_año():\n",
    "    año = int(input(\"¿De qué año deseas ver la información? \"))\n",
    "    df_infoP = movies[movies[\"startYear\"] == año]\n",
    "    df_infoP = df_infoP[[\"primaryTitle\", \"principalGenre\", \"writerName\"]]\n",
    "    return df_infoP.head(5)\n",
    "pelicula_año()"
   ]
  },
  {
   "attachments": {},
   "cell_type": "markdown",
   "id": "ef9cf95b",
   "metadata": {},
   "source": [
    "#Opción 2: Información de género por Rating"
   ]
  },
  {
   "cell_type": "code",
   "execution_count": null,
   "id": "72912706",
   "metadata": {},
   "outputs": [],
   "source": [
    "def top_pGenero():\n",
    "    n = int(input(\"¿Cuántas películas deseea observar?\"))\n",
    "    genero = input(\"¿Cuál género deseea?\")\n",
    "    generos = movies[\"principalGenre\"].unique()\n",
    "    if genero in generos:\n",
    "        df_infoP = movies[movies[\"principalGenre\"] == genero]\n",
    "        df_infoP = df_infoP.sort_values(by = \"averageRating\", ascending = False)\n",
    "        return df_infoP.head(n)\n",
    "    else:\n",
    "        print(\"El género ingresado no es válido.\")\n",
    "top_pGenero()"
   ]
  },
  {
   "attachments": {},
   "cell_type": "markdown",
   "id": "0eaf3e0f",
   "metadata": {},
   "source": []
  },
  {
   "cell_type": "code",
   "execution_count": null,
   "id": "44605705",
   "metadata": {},
   "outputs": [],
   "source": [
    "def especGenero():\n",
    "    año = int(input(\"Ingrese el año que desee: \"))\n",
    "    años = movies[\"startYear\"].unique()\n",
    "    if año in años:\n",
    "        generos = [\"Action\", \"Adventure\", \"Drama\"]  # Agrega los géneros deseados en esta lista\n",
    "        df_infoP = movies[movies[\"startYear\"] == año]\n",
    "        df_infoP = df_infoP[df_infoP[\"principalGenre\"].isin(generos)]\n",
    "        return df_infoP\n",
    "    else:\n",
    "        print(\"El año ingresado no es válido.\")\n",
    "especGenero()"
   ]
  },
  {
   "attachments": {},
   "cell_type": "markdown",
   "id": "7aa87121",
   "metadata": {},
   "source": [
    "#Opción 5: Cantidad de películas por año de lanzamiento"
   ]
  },
  {
   "cell_type": "code",
   "execution_count": null,
   "id": "e713a6d9",
   "metadata": {},
   "outputs": [],
   "source": [
    "def peli_años():\n",
    "    df_infoP = movies\n",
    "    años = df_infoP[\"startYear\"].value_counts()\n",
    "    return pd.DataFrame(años)\n",
    "peli_años()"
   ]
  },
  {
   "attachments": {},
   "cell_type": "markdown",
   "id": "5604e7e4",
   "metadata": {},
   "source": [
    "#Opción 6: Gráfico de barras"
   ]
  },
  {
   "cell_type": "code",
   "execution_count": null,
   "id": "71cea7df",
   "metadata": {},
   "outputs": [],
   "source": [
    "def grafico():\n",
    "    df_infoP = movies\n",
    "    años = df_infoP[\"startYear\"].value_counts().head(18)\n",
    "    plt.figure(figsize=(15, 6))\n",
    "    plt.bar(años.index.astype(str), años.values)\n",
    "    plt.xlabel('Años')\n",
    "    plt.ylabel('Conteos')\n",
    "    plt.title('Gráfica de conteos por año')\n",
    "    plt.show()\n",
    "grafico()"
   ]
  },
  {
   "attachments": {},
   "cell_type": "markdown",
   "id": "acd0f2b3",
   "metadata": {},
   "source": [
    "#Opción 7: Películas más votadas"
   ]
  },
  {
   "cell_type": "code",
   "execution_count": null,
   "id": "2a9a3802",
   "metadata": {},
   "outputs": [],
   "source": [
    "def mas_votos():\n",
    "    n = int(input(\"¿Cuántas películas deseea observar?\"))\n",
    "    df_infoP = movies\n",
    "    df_infoP = df_infoP.sort_values(by = \"numVotes\", ascending = False)\n",
    "    return df_infoP.head(n)\n",
    "mas_votos()"
   ]
  },
  {
   "attachments": {},
   "cell_type": "markdown",
   "id": "90344b2b",
   "metadata": {},
   "source": [
    "#Opción 8:  Películas por director específico"
   ]
  },
  {
   "cell_type": "code",
   "execution_count": null,
   "id": "e45251a9",
   "metadata": {},
   "outputs": [],
   "source": [
    "def director_espec():\n",
    "    director = input(\"¿Las películas de qué director desea observar?\")\n",
    "    directores = movies[\"directorName\"].unique()\n",
    "    if director in directores:\n",
    "        df_infoP = movies[movies[\"directorName\"] == director]\n",
    "        return df_infoP\n",
    "    else:\n",
    "        print(\"El director ingresado no existe.\")\n",
    "director_espec()"
   ]
  },
  {
   "attachments": {},
   "cell_type": "markdown",
   "id": "273684ed",
   "metadata": {},
   "source": [
    "#Opción 9: Directores que tienen una mayor cantidad de películas"
   ]
  },
  {
   "cell_type": "code",
   "execution_count": null,
   "id": "047ef529",
   "metadata": {},
   "outputs": [],
   "source": [
    "def masP_directores():\n",
    "    n = int(input(\"¿Cuántas películas deseea observar?\"))\n",
    "    df_infoP = movies\n",
    "    df_infoP = df_infoP[\"directorName\"].value_counts()\n",
    "    return df_infoP.head(n)\n",
    "masP_directores()"
   ]
  },
  {
   "attachments": {},
   "cell_type": "markdown",
   "id": "37c03220",
   "metadata": {},
   "source": [
    "#Opción 10: Directores que su principal profesión es diferente de \"director\""
   ]
  },
  {
   "cell_type": "code",
   "execution_count": null,
   "id": "623d3af2",
   "metadata": {},
   "outputs": [],
   "source": [
    "def director_prof():\n",
    "    df_infoP = movies\n",
    "    df_infoP = df_infoP[movies[\"director1stProfession\"] != \"director\"]\n",
    "    directores = df_infoP[\"directorName\"].dropna().unique()\n",
    "    return pd.DataFrame(directores, columns = [\"directorName\"])\n",
    "director_prof()"
   ]
  }
 ],
 "metadata": {
  "kernelspec": {
   "display_name": "Python 3 (ipykernel)",
   "language": "python",
   "name": "python3"
  },
  "language_info": {
   "codemirror_mode": {
    "name": "ipython",
    "version": 3
   },
   "file_extension": ".py",
   "mimetype": "text/x-python",
   "name": "python",
   "nbconvert_exporter": "python",
   "pygments_lexer": "ipython3",
   "version": "3.11.3"
  }
 },
 "nbformat": 4,
 "nbformat_minor": 5
}
